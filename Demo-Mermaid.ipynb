{
 "cells": [
  {
   "attachments": {},
   "cell_type": "markdown",
   "metadata": {},
   "source": [
    "# About Mermaid\n",
    "\n",
    "Mermaid lets you create diagrams and visualizations using text and code.\n",
    "\n",
    "Mermaid is a diagramming and charting tool that renders Markdown-inspired text definitions to create and modify diagrams dynamically.\n",
    "\n",
    "> If you are familiar with Markdown you should have no problem learning [Mermaid's Syntax](https://mermaid.js.org/intro/n00b-syntaxReference.html)."
   ]
  },
  {
   "attachments": {},
   "cell_type": "markdown",
   "metadata": {
    "dotnet_interactive": {
     "language": "pwsh"
    },
    "polyglot_notebook": {
     "kernelName": "pwsh"
    }
   },
   "source": [
    "# Flowcharts - Basic Syntax\n",
    "\n",
    "All Flowcharts are composed of nodes"
   ]
  },
  {
   "cell_type": "code",
   "execution_count": 20,
   "metadata": {
    "dotnet_interactive": {
     "language": "mermaid"
    },
    "polyglot_notebook": {
     "kernelName": "mermaid"
    },
    "vscode": {
     "languageId": "polyglot-notebook"
    }
   },
   "outputs": [
    {
     "data": {
      "text/html": [
       "<div class=\"mermaidMarkdownContainer\" style=\"background-color:white\">\r\n",
       "<link rel=\"stylesheet\" href=\"https://cdnjs.cloudflare.com/ajax/libs/font-awesome/6.2.0/css/all.min.css\">\r\n",
       "<script type=\"text/javascript\">\r\n",
       "\r\n",
       "loadMermaid_af13fa569c0b4f859f5be09305b11546 = () => {\r\n",
       " \r\n",
       "        (require.config({ 'paths': { 'context': '9.1.7', 'mermaidUri' : 'https://cdn.jsdelivr.net/npm/mermaid@9.1.7/dist/mermaid.min', 'urlArgs': 'cacheBuster=f31bf5f1a4d6461c91afc8d764604c11' }}) || require)(['mermaidUri'], (mermaid) => {\r\n",
       "\r\n",
       "            let renderTarget = document.getElementById('af13fa569c0b4f859f5be09305b11546');\r\n",
       "            mermaid.mermaidAPI.render( \r\n",
       "                'mermaid_af13fa569c0b4f859f5be09305b11546', \r\n",
       "                `flowchart LR\r\n",
       "   a --> b & c--> d\r\n",
       "   b --> e`, \r\n",
       "                g => {\r\n",
       "                    renderTarget.innerHTML = g \r\n",
       "                });\r\n",
       "        },\r\n",
       "        (error) => {\r\n",
       "            console.log(error);\r\n",
       "        });\r\n",
       "}\r\n",
       "// ensure `require` is available globally\r\n",
       "if ((typeof(require) !==  typeof(Function)) || (typeof(require.config) !== typeof(Function))) {\r\n",
       "    let require_script = document.createElement('script');\r\n",
       "    require_script.setAttribute('src', 'https://cdnjs.cloudflare.com/ajax/libs/require.js/2.3.6/require.min.js');\r\n",
       "    require_script.setAttribute('type', 'text/javascript');\r\n",
       "    \r\n",
       "    \r\n",
       "    require_script.onload = function() {\r\n",
       "        loadMermaid_af13fa569c0b4f859f5be09305b11546();\r\n",
       "    };\r\n",
       "\r\n",
       "    document.getElementsByTagName('head')[0].appendChild(require_script);\r\n",
       "}\r\n",
       "else {\r\n",
       "    loadMermaid_af13fa569c0b4f859f5be09305b11546();\r\n",
       "}\r\n",
       "\r\n",
       "</script>\r\n",
       "<div id=\"af13fa569c0b4f859f5be09305b11546\"></div>\r\n",
       "</div>\r\n"
      ]
     },
     "metadata": {},
     "output_type": "display_data"
    }
   ],
   "source": [
    "flowchart LR\n",
    "   a --> b & c--> d\n",
    "   b --> e"
   ]
  },
  {
   "attachments": {},
   "cell_type": "markdown",
   "metadata": {
    "dotnet_interactive": {
     "language": "mermaid"
    },
    "polyglot_notebook": {
     "kernelName": "mermaid"
    }
   },
   "source": [
    "# Subgraphs"
   ]
  },
  {
   "cell_type": "code",
   "execution_count": 7,
   "metadata": {
    "dotnet_interactive": {
     "language": "mermaid"
    },
    "polyglot_notebook": {
     "kernelName": "mermaid"
    },
    "vscode": {
     "languageId": "polyglot-notebook"
    }
   },
   "outputs": [
    {
     "data": {
      "text/html": [
       "<div class=\"mermaidMarkdownContainer\" style=\"background-color:white\">\r\n",
       "<link rel=\"stylesheet\" href=\"https://cdnjs.cloudflare.com/ajax/libs/font-awesome/6.2.0/css/all.min.css\">\r\n",
       "<script type=\"text/javascript\">\r\n",
       "\r\n",
       "loadMermaid_c17ce31ed71748ffb4269db0d66b69cf = () => {\r\n",
       " \r\n",
       "        (require.config({ 'paths': { 'context': '9.1.7', 'mermaidUri' : 'https://cdn.jsdelivr.net/npm/mermaid@9.1.7/dist/mermaid.min', 'urlArgs': 'cacheBuster=f31bf5f1a4d6461c91afc8d764604c11' }}) || require)(['mermaidUri'], (mermaid) => {\r\n",
       "\r\n",
       "            let renderTarget = document.getElementById('c17ce31ed71748ffb4269db0d66b69cf');\r\n",
       "            mermaid.mermaidAPI.render( \r\n",
       "                'mermaid_c17ce31ed71748ffb4269db0d66b69cf', \r\n",
       "                `flowchart TB\r\n",
       "    c1-->a2\r\n",
       "    subgraph one\r\n",
       "    a1-->a2\r\n",
       "    end\r\n",
       "    subgraph two\r\n",
       "    b1-->b2\r\n",
       "    end\r\n",
       "    subgraph three\r\n",
       "    c1-->c2\r\n",
       "    end`, \r\n",
       "                g => {\r\n",
       "                    renderTarget.innerHTML = g \r\n",
       "                });\r\n",
       "        },\r\n",
       "        (error) => {\r\n",
       "            console.log(error);\r\n",
       "        });\r\n",
       "}\r\n",
       "// ensure `require` is available globally\r\n",
       "if ((typeof(require) !==  typeof(Function)) || (typeof(require.config) !== typeof(Function))) {\r\n",
       "    let require_script = document.createElement('script');\r\n",
       "    require_script.setAttribute('src', 'https://cdnjs.cloudflare.com/ajax/libs/require.js/2.3.6/require.min.js');\r\n",
       "    require_script.setAttribute('type', 'text/javascript');\r\n",
       "    \r\n",
       "    \r\n",
       "    require_script.onload = function() {\r\n",
       "        loadMermaid_c17ce31ed71748ffb4269db0d66b69cf();\r\n",
       "    };\r\n",
       "\r\n",
       "    document.getElementsByTagName('head')[0].appendChild(require_script);\r\n",
       "}\r\n",
       "else {\r\n",
       "    loadMermaid_c17ce31ed71748ffb4269db0d66b69cf();\r\n",
       "}\r\n",
       "\r\n",
       "</script>\r\n",
       "<div id=\"c17ce31ed71748ffb4269db0d66b69cf\"></div>\r\n",
       "</div>\r\n"
      ]
     },
     "metadata": {},
     "output_type": "display_data"
    }
   ],
   "source": [
    "flowchart TB\n",
    "    c1-->a2\n",
    "    subgraph one\n",
    "    a1-->a2\n",
    "    end\n",
    "    subgraph two\n",
    "    b1-->b2\n",
    "    end\n",
    "    subgraph three\n",
    "    c1-->c2\n",
    "    end"
   ]
  },
  {
   "attachments": {},
   "cell_type": "markdown",
   "metadata": {
    "dotnet_interactive": {
     "language": "mermaid"
    },
    "polyglot_notebook": {
     "kernelName": "mermaid"
    }
   },
   "source": [
    "# Entity Relationship Diagrams\n",
    "\n",
    "> An entity–relationship model (or ER model) describes interrelated things of interest in a specific domain of knowledge. "
   ]
  },
  {
   "cell_type": "code",
   "execution_count": 11,
   "metadata": {
    "dotnet_interactive": {
     "language": "mermaid"
    },
    "polyglot_notebook": {
     "kernelName": "mermaid"
    },
    "vscode": {
     "languageId": "polyglot-notebook"
    }
   },
   "outputs": [
    {
     "data": {
      "text/html": [
       "<div class=\"mermaidMarkdownContainer\" style=\"background-color:white\">\r\n",
       "<link rel=\"stylesheet\" href=\"https://cdnjs.cloudflare.com/ajax/libs/font-awesome/6.2.0/css/all.min.css\">\r\n",
       "<script type=\"text/javascript\">\r\n",
       "\r\n",
       "loadMermaid_4977de0e51624362b236ca9b6581ef11 = () => {\r\n",
       " \r\n",
       "        (require.config({ 'paths': { 'context': '9.1.7', 'mermaidUri' : 'https://cdn.jsdelivr.net/npm/mermaid@9.1.7/dist/mermaid.min', 'urlArgs': 'cacheBuster=f31bf5f1a4d6461c91afc8d764604c11' }}) || require)(['mermaidUri'], (mermaid) => {\r\n",
       "\r\n",
       "            let renderTarget = document.getElementById('4977de0e51624362b236ca9b6581ef11');\r\n",
       "            mermaid.mermaidAPI.render( \r\n",
       "                'mermaid_4977de0e51624362b236ca9b6581ef11', \r\n",
       "                `erDiagram\r\n",
       "    CUSTOMER ||--o{ ORDER : places\r\n",
       "    ORDER ||--|{ LINE-ITEM : contains\r\n",
       "    CUSTOMER }|..|{ DELIVERY-ADDRESS : uses\r\n",
       "`, \r\n",
       "                g => {\r\n",
       "                    renderTarget.innerHTML = g \r\n",
       "                });\r\n",
       "        },\r\n",
       "        (error) => {\r\n",
       "            console.log(error);\r\n",
       "        });\r\n",
       "}\r\n",
       "// ensure `require` is available globally\r\n",
       "if ((typeof(require) !==  typeof(Function)) || (typeof(require.config) !== typeof(Function))) {\r\n",
       "    let require_script = document.createElement('script');\r\n",
       "    require_script.setAttribute('src', 'https://cdnjs.cloudflare.com/ajax/libs/require.js/2.3.6/require.min.js');\r\n",
       "    require_script.setAttribute('type', 'text/javascript');\r\n",
       "    \r\n",
       "    \r\n",
       "    require_script.onload = function() {\r\n",
       "        loadMermaid_4977de0e51624362b236ca9b6581ef11();\r\n",
       "    };\r\n",
       "\r\n",
       "    document.getElementsByTagName('head')[0].appendChild(require_script);\r\n",
       "}\r\n",
       "else {\r\n",
       "    loadMermaid_4977de0e51624362b236ca9b6581ef11();\r\n",
       "}\r\n",
       "\r\n",
       "</script>\r\n",
       "<div id=\"4977de0e51624362b236ca9b6581ef11\"></div>\r\n",
       "</div>\r\n"
      ]
     },
     "metadata": {},
     "output_type": "display_data"
    }
   ],
   "source": [
    "erDiagram\n",
    "    CUSTOMER ||--o{ ORDER : places\n",
    "    ORDER ||--|{ LINE-ITEM : contains\n",
    "    CUSTOMER }|..|{ DELIVERY-ADDRESS : uses\n"
   ]
  },
  {
   "attachments": {},
   "cell_type": "markdown",
   "metadata": {
    "dotnet_interactive": {
     "language": "mermaid"
    },
    "polyglot_notebook": {
     "kernelName": "mermaid"
    }
   },
   "source": [
    "# Pie Charts"
   ]
  },
  {
   "cell_type": "code",
   "execution_count": 13,
   "metadata": {
    "dotnet_interactive": {
     "language": "mermaid"
    },
    "polyglot_notebook": {
     "kernelName": "mermaid"
    },
    "vscode": {
     "languageId": "polyglot-notebook"
    }
   },
   "outputs": [
    {
     "data": {
      "text/html": [
       "<div class=\"mermaidMarkdownContainer\" style=\"background-color:white\">\r\n",
       "<link rel=\"stylesheet\" href=\"https://cdnjs.cloudflare.com/ajax/libs/font-awesome/6.2.0/css/all.min.css\">\r\n",
       "<script type=\"text/javascript\">\r\n",
       "\r\n",
       "loadMermaid_5f72d8c876dc48fa9b0a441d26e491ea = () => {\r\n",
       " \r\n",
       "        (require.config({ 'paths': { 'context': '9.1.7', 'mermaidUri' : 'https://cdn.jsdelivr.net/npm/mermaid@9.1.7/dist/mermaid.min', 'urlArgs': 'cacheBuster=f31bf5f1a4d6461c91afc8d764604c11' }}) || require)(['mermaidUri'], (mermaid) => {\r\n",
       "\r\n",
       "            let renderTarget = document.getElementById('5f72d8c876dc48fa9b0a441d26e491ea');\r\n",
       "            mermaid.mermaidAPI.render( \r\n",
       "                'mermaid_5f72d8c876dc48fa9b0a441d26e491ea', \r\n",
       "                `pie title Pets adopted by volunteers\r\n",
       "    \"Dogs\" : 386\r\n",
       "    \"Cats\" : 85\r\n",
       "    \"Rats\" : 15`, \r\n",
       "                g => {\r\n",
       "                    renderTarget.innerHTML = g \r\n",
       "                });\r\n",
       "        },\r\n",
       "        (error) => {\r\n",
       "            console.log(error);\r\n",
       "        });\r\n",
       "}\r\n",
       "// ensure `require` is available globally\r\n",
       "if ((typeof(require) !==  typeof(Function)) || (typeof(require.config) !== typeof(Function))) {\r\n",
       "    let require_script = document.createElement('script');\r\n",
       "    require_script.setAttribute('src', 'https://cdnjs.cloudflare.com/ajax/libs/require.js/2.3.6/require.min.js');\r\n",
       "    require_script.setAttribute('type', 'text/javascript');\r\n",
       "    \r\n",
       "    \r\n",
       "    require_script.onload = function() {\r\n",
       "        loadMermaid_5f72d8c876dc48fa9b0a441d26e491ea();\r\n",
       "    };\r\n",
       "\r\n",
       "    document.getElementsByTagName('head')[0].appendChild(require_script);\r\n",
       "}\r\n",
       "else {\r\n",
       "    loadMermaid_5f72d8c876dc48fa9b0a441d26e491ea();\r\n",
       "}\r\n",
       "\r\n",
       "</script>\r\n",
       "<div id=\"5f72d8c876dc48fa9b0a441d26e491ea\"></div>\r\n",
       "</div>\r\n"
      ]
     },
     "metadata": {},
     "output_type": "display_data"
    }
   ],
   "source": [
    "pie title Pets adopted by volunteers\n",
    "    \"Dogs\" : 386\n",
    "    \"Cats\" : 85\n",
    "    \"Rats\" : 15"
   ]
  },
  {
   "attachments": {},
   "cell_type": "markdown",
   "metadata": {
    "dotnet_interactive": {
     "language": "mermaid"
    },
    "polyglot_notebook": {
     "kernelName": "mermaid"
    }
   },
   "source": [
    "# C4 Diagrams\n",
    "\n",
    "\n",
    "Mermaid's c4 diagram syntax is compatible with plantUML"
   ]
  },
  {
   "cell_type": "code",
   "execution_count": 14,
   "metadata": {
    "dotnet_interactive": {
     "language": "mermaid"
    },
    "polyglot_notebook": {
     "kernelName": "mermaid"
    },
    "vscode": {
     "languageId": "polyglot-notebook"
    }
   },
   "outputs": [
    {
     "data": {
      "text/html": [
       "<div class=\"mermaidMarkdownContainer\" style=\"background-color:white\">\r\n",
       "<link rel=\"stylesheet\" href=\"https://cdnjs.cloudflare.com/ajax/libs/font-awesome/6.2.0/css/all.min.css\">\r\n",
       "<script type=\"text/javascript\">\r\n",
       "\r\n",
       "loadMermaid_e504f2ae37ab47c284843ccd3d6984f3 = () => {\r\n",
       " \r\n",
       "        (require.config({ 'paths': { 'context': '9.1.7', 'mermaidUri' : 'https://cdn.jsdelivr.net/npm/mermaid@9.1.7/dist/mermaid.min', 'urlArgs': 'cacheBuster=f31bf5f1a4d6461c91afc8d764604c11' }}) || require)(['mermaidUri'], (mermaid) => {\r\n",
       "\r\n",
       "            let renderTarget = document.getElementById('e504f2ae37ab47c284843ccd3d6984f3');\r\n",
       "            mermaid.mermaidAPI.render( \r\n",
       "                'mermaid_e504f2ae37ab47c284843ccd3d6984f3', \r\n",
       "                `    C4Context\r\n",
       "      title System Context diagram for Internet Banking System\r\n",
       "      Enterprise_Boundary(b0, \"BankBoundary0\") {\r\n",
       "        Person(customerA, \"Banking Customer A\", \"A customer of the bank, with personal bank accounts.\")\r\n",
       "        Person(customerB, \"Banking Customer B\")\r\n",
       "        Person_Ext(customerC, \"Banking Customer C\", \"desc\")\r\n",
       "\r\n",
       "        Person(customerD, \"Banking Customer D\", \"A customer of the bank, <br/> with personal bank accounts.\")\r\n",
       "\r\n",
       "        System(SystemAA, \"Internet Banking System\", \"Allows customers to view information about their bank accounts, and make payments.\")\r\n",
       "\r\n",
       "        Enterprise_Boundary(b1, \"BankBoundary\") {\r\n",
       "\r\n",
       "          SystemDb_Ext(SystemE, \"Mainframe Banking System\", \"Stores all of the core banking information about customers, accounts, transactions, etc.\")\r\n",
       "\r\n",
       "          System_Boundary(b2, \"BankBoundary2\") {\r\n",
       "            System(SystemA, \"Banking System A\")\r\n",
       "            System(SystemB, \"Banking System B\", \"A system of the bank, with personal bank accounts. next line.\")\r\n",
       "          }\r\n",
       "\r\n",
       "          System_Ext(SystemC, \"E-mail system\", \"The internal Microsoft Exchange e-mail system.\")\r\n",
       "          SystemDb(SystemD, \"Banking System D Database\", \"A system of the bank, with personal bank accounts.\")\r\n",
       "\r\n",
       "          Boundary(b3, \"BankBoundary3\", \"boundary\") {\r\n",
       "            SystemQueue(SystemF, \"Banking System F Queue\", \"A system of the bank.\")\r\n",
       "            SystemQueue_Ext(SystemG, \"Banking System G Queue\", \"A system of the bank, with personal bank accounts.\")\r\n",
       "          }\r\n",
       "        }\r\n",
       "      }\r\n",
       "\r\n",
       "      BiRel(customerA, SystemAA, \"Uses\")\r\n",
       "      BiRel(SystemAA, SystemE, \"Uses\")\r\n",
       "      Rel(SystemAA, SystemC, \"Sends e-mails\", \"SMTP\")\r\n",
       "      Rel(SystemC, customerA, \"Sends e-mails to\")\r\n",
       "\r\n",
       "      UpdateElementStyle(customerA, $fontColor=\"red\", $bgColor=\"grey\", $borderColor=\"red\")\r\n",
       "      UpdateRelStyle(customerA, SystemAA, $textColor=\"blue\", $lineColor=\"blue\", $offsetX=\"5\")\r\n",
       "      UpdateRelStyle(SystemAA, SystemE, $textColor=\"blue\", $lineColor=\"blue\", $offsetY=\"-10\")\r\n",
       "      UpdateRelStyle(SystemAA, SystemC, $textColor=\"blue\", $lineColor=\"blue\", $offsetY=\"-40\", $offsetX=\"-50\")\r\n",
       "      UpdateRelStyle(SystemC, customerA, $textColor=\"red\", $lineColor=\"red\", $offsetX=\"-50\", $offsetY=\"20\")\r\n",
       "\r\n",
       "      UpdateLayoutConfig($c4ShapeInRow=\"3\", $c4BoundaryInRow=\"1\")\r\n",
       "\r\n",
       "\r\n",
       "`, \r\n",
       "                g => {\r\n",
       "                    renderTarget.innerHTML = g \r\n",
       "                });\r\n",
       "        },\r\n",
       "        (error) => {\r\n",
       "            console.log(error);\r\n",
       "        });\r\n",
       "}\r\n",
       "// ensure `require` is available globally\r\n",
       "if ((typeof(require) !==  typeof(Function)) || (typeof(require.config) !== typeof(Function))) {\r\n",
       "    let require_script = document.createElement('script');\r\n",
       "    require_script.setAttribute('src', 'https://cdnjs.cloudflare.com/ajax/libs/require.js/2.3.6/require.min.js');\r\n",
       "    require_script.setAttribute('type', 'text/javascript');\r\n",
       "    \r\n",
       "    \r\n",
       "    require_script.onload = function() {\r\n",
       "        loadMermaid_e504f2ae37ab47c284843ccd3d6984f3();\r\n",
       "    };\r\n",
       "\r\n",
       "    document.getElementsByTagName('head')[0].appendChild(require_script);\r\n",
       "}\r\n",
       "else {\r\n",
       "    loadMermaid_e504f2ae37ab47c284843ccd3d6984f3();\r\n",
       "}\r\n",
       "\r\n",
       "</script>\r\n",
       "<div id=\"e504f2ae37ab47c284843ccd3d6984f3\"></div>\r\n",
       "</div>\r\n"
      ]
     },
     "metadata": {},
     "output_type": "display_data"
    }
   ],
   "source": [
    "    C4Context\n",
    "      title System Context diagram for Internet Banking System\n",
    "      Enterprise_Boundary(b0, \"BankBoundary0\") {\n",
    "        Person(customerA, \"Banking Customer A\", \"A customer of the bank, with personal bank accounts.\")\n",
    "        Person(customerB, \"Banking Customer B\")\n",
    "        Person_Ext(customerC, \"Banking Customer C\", \"desc\")\n",
    "\n",
    "        Person(customerD, \"Banking Customer D\", \"A customer of the bank, <br/> with personal bank accounts.\")\n",
    "\n",
    "        System(SystemAA, \"Internet Banking System\", \"Allows customers to view information about their bank accounts, and make payments.\")\n",
    "\n",
    "        Enterprise_Boundary(b1, \"BankBoundary\") {\n",
    "\n",
    "          SystemDb_Ext(SystemE, \"Mainframe Banking System\", \"Stores all of the core banking information about customers, accounts, transactions, etc.\")\n",
    "\n",
    "          System_Boundary(b2, \"BankBoundary2\") {\n",
    "            System(SystemA, \"Banking System A\")\n",
    "            System(SystemB, \"Banking System B\", \"A system of the bank, with personal bank accounts. next line.\")\n",
    "          }\n",
    "\n",
    "          System_Ext(SystemC, \"E-mail system\", \"The internal Microsoft Exchange e-mail system.\")\n",
    "          SystemDb(SystemD, \"Banking System D Database\", \"A system of the bank, with personal bank accounts.\")\n",
    "\n",
    "          Boundary(b3, \"BankBoundary3\", \"boundary\") {\n",
    "            SystemQueue(SystemF, \"Banking System F Queue\", \"A system of the bank.\")\n",
    "            SystemQueue_Ext(SystemG, \"Banking System G Queue\", \"A system of the bank, with personal bank accounts.\")\n",
    "          }\n",
    "        }\n",
    "      }\n",
    "\n",
    "      BiRel(customerA, SystemAA, \"Uses\")\n",
    "      BiRel(SystemAA, SystemE, \"Uses\")\n",
    "      Rel(SystemAA, SystemC, \"Sends e-mails\", \"SMTP\")\n",
    "      Rel(SystemC, customerA, \"Sends e-mails to\")\n",
    "\n",
    "      UpdateElementStyle(customerA, $fontColor=\"red\", $bgColor=\"grey\", $borderColor=\"red\")\n",
    "      UpdateRelStyle(customerA, SystemAA, $textColor=\"blue\", $lineColor=\"blue\", $offsetX=\"5\")\n",
    "      UpdateRelStyle(SystemAA, SystemE, $textColor=\"blue\", $lineColor=\"blue\", $offsetY=\"-10\")\n",
    "      UpdateRelStyle(SystemAA, SystemC, $textColor=\"blue\", $lineColor=\"blue\", $offsetY=\"-40\", $offsetX=\"-50\")\n",
    "      UpdateRelStyle(SystemC, customerA, $textColor=\"red\", $lineColor=\"red\", $offsetX=\"-50\", $offsetY=\"20\")\n",
    "\n",
    "      UpdateLayoutConfig($c4ShapeInRow=\"3\", $c4BoundaryInRow=\"1\")\n",
    "\n",
    "\n"
   ]
  }
 ],
 "metadata": {
  "kernelspec": {
   "display_name": ".NET (PowerShell)",
   "language": "PowerShell",
   "name": ".net-pwsh"
  },
  "polyglot_notebook": {
   "kernelInfo": {
    "defaultKernelName": "pwsh",
    "items": [
     {
      "aliases": [
       "powershell"
      ],
      "languageName": "PowerShell",
      "name": "pwsh"
     },
     {
      "aliases": [
       "frontend"
      ],
      "languageName": null,
      "name": "vscode"
     }
    ]
   }
  }
 },
 "nbformat": 4,
 "nbformat_minor": 2
}

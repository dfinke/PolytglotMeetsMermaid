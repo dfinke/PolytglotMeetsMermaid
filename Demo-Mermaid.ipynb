{
 "cells": [
  {
   "attachments": {},
   "cell_type": "markdown",
   "metadata": {},
   "source": [
    "![Alt text](media/mermaidLogo.png)\n",
    "\n",
    "# About Mermaid\n",
    "\n",
    "Mermaid lets you create diagrams and visualizations using text and code.\n",
    "\n",
    "Mermaid is a diagramming and charting tool that renders Markdown-inspired text definitions to create and modify diagrams dynamically.\n",
    "\n",
    "> If you are familiar with Markdown you should have no problem learning [Mermaid's Syntax](https://mermaid.js.org/intro/n00b-syntaxReference.html)."
   ]
  },
  {
   "attachments": {},
   "cell_type": "markdown",
   "metadata": {},
   "source": [
    "# Flowcharts - Basic Syntax\n",
    "\n",
    "All Flowcharts are composed of nodes"
   ]
  },
  {
   "cell_type": "code",
   "execution_count": null,
   "metadata": {
    "dotnet_interactive": {
     "language": "mermaid"
    },
    "polyglot_notebook": {
     "kernelName": "mermaid"
    }
   },
   "outputs": [],
   "source": [
    "flowchart LR\n",
    "   a --> b & c--> d\n",
    "   b --> e"
   ]
  },
  {
   "attachments": {},
   "cell_type": "markdown",
   "metadata": {},
   "source": [
    "# Subgraphs"
   ]
  },
  {
   "cell_type": "code",
   "execution_count": null,
   "metadata": {
    "dotnet_interactive": {
     "language": "mermaid"
    },
    "polyglot_notebook": {
     "kernelName": "mermaid"
    }
   },
   "outputs": [],
   "source": [
    "flowchart TB\n",
    "    c1-->a2\n",
    "    subgraph one\n",
    "    a1-->a2\n",
    "    end\n",
    "    subgraph two\n",
    "    b1-->b2\n",
    "    end\n",
    "    subgraph three\n",
    "    c1-->c2\n",
    "    end"
   ]
  },
  {
   "attachments": {},
   "cell_type": "markdown",
   "metadata": {},
   "source": [
    "# Entity Relationship Diagrams\n",
    "\n",
    "> An entity–relationship model (or ER model) describes interrelated things of interest in a specific domain of knowledge. "
   ]
  },
  {
   "cell_type": "code",
   "execution_count": null,
   "metadata": {
    "dotnet_interactive": {
     "language": "mermaid"
    },
    "polyglot_notebook": {
     "kernelName": "mermaid"
    }
   },
   "outputs": [],
   "source": [
    "erDiagram\n",
    "    CUSTOMER ||--o{ ORDER : places\n",
    "    ORDER ||--|{ LINE-ITEM : contains\n",
    "    CUSTOMER }|..|{ DELIVERY-ADDRESS : uses\n"
   ]
  },
  {
   "attachments": {},
   "cell_type": "markdown",
   "metadata": {},
   "source": [
    "# Pie Charts"
   ]
  },
  {
   "cell_type": "code",
   "execution_count": null,
   "metadata": {
    "dotnet_interactive": {
     "language": "mermaid"
    },
    "polyglot_notebook": {
     "kernelName": "mermaid"
    }
   },
   "outputs": [],
   "source": [
    "pie title Pets adopted by volunteers\n",
    "    \"Dogs\" : 386\n",
    "    \"Cats\" : 85\n",
    "    \"Rats\" : 15"
   ]
  },
  {
   "attachments": {},
   "cell_type": "markdown",
   "metadata": {},
   "source": [
    "# C4 Diagrams\n",
    "\n",
    "\n",
    "Mermaid's c4 diagram syntax is compatible with plantUML"
   ]
  },
  {
   "cell_type": "code",
   "execution_count": null,
   "metadata": {
    "dotnet_interactive": {
     "language": "mermaid"
    },
    "polyglot_notebook": {
     "kernelName": "mermaid"
    }
   },
   "outputs": [],
   "source": [
    "    C4Context\n",
    "      title System Context diagram for Internet Banking System\n",
    "      Enterprise_Boundary(b0, \"BankBoundary0\") {\n",
    "        Person(customerA, \"Banking Customer A\", \"A customer of the bank, with personal bank accounts.\")\n",
    "        Person(customerB, \"Banking Customer B\")\n",
    "        Person_Ext(customerC, \"Banking Customer C\", \"desc\")\n",
    "\n",
    "        Person(customerD, \"Banking Customer D\", \"A customer of the bank, <br/> with personal bank accounts.\")\n",
    "\n",
    "        System(SystemAA, \"Internet Banking System\", \"Allows customers to view information about their bank accounts, and make payments.\")\n",
    "\n",
    "        Enterprise_Boundary(b1, \"BankBoundary\") {\n",
    "\n",
    "          SystemDb_Ext(SystemE, \"Mainframe Banking System\", \"Stores all of the core banking information about customers, accounts, transactions, etc.\")\n",
    "\n",
    "          System_Boundary(b2, \"BankBoundary2\") {\n",
    "            System(SystemA, \"Banking System A\")\n",
    "            System(SystemB, \"Banking System B\", \"A system of the bank, with personal bank accounts. next line.\")\n",
    "          }\n",
    "\n",
    "          System_Ext(SystemC, \"E-mail system\", \"The internal Microsoft Exchange e-mail system.\")\n",
    "          SystemDb(SystemD, \"Banking System D Database\", \"A system of the bank, with personal bank accounts.\")\n",
    "\n",
    "          Boundary(b3, \"BankBoundary3\", \"boundary\") {\n",
    "            SystemQueue(SystemF, \"Banking System F Queue\", \"A system of the bank.\")\n",
    "            SystemQueue_Ext(SystemG, \"Banking System G Queue\", \"A system of the bank, with personal bank accounts.\")\n",
    "          }\n",
    "        }\n",
    "      }\n",
    "\n",
    "      BiRel(customerA, SystemAA, \"Uses\")\n",
    "      BiRel(SystemAA, SystemE, \"Uses\")\n",
    "      Rel(SystemAA, SystemC, \"Sends e-mails\", \"SMTP\")\n",
    "      Rel(SystemC, customerA, \"Sends e-mails to\")\n",
    "\n",
    "      UpdateElementStyle(customerA, $fontColor=\"red\", $bgColor=\"grey\", $borderColor=\"red\")\n",
    "      UpdateRelStyle(customerA, SystemAA, $textColor=\"blue\", $lineColor=\"blue\", $offsetX=\"5\")\n",
    "      UpdateRelStyle(SystemAA, SystemE, $textColor=\"blue\", $lineColor=\"blue\", $offsetY=\"-10\")\n",
    "      UpdateRelStyle(SystemAA, SystemC, $textColor=\"blue\", $lineColor=\"blue\", $offsetY=\"-40\", $offsetX=\"-50\")\n",
    "      UpdateRelStyle(SystemC, customerA, $textColor=\"red\", $lineColor=\"red\", $offsetX=\"-50\", $offsetY=\"20\")\n",
    "\n",
    "      UpdateLayoutConfig($c4ShapeInRow=\"3\", $c4BoundaryInRow=\"1\")\n",
    "\n",
    "\n"
   ]
  },
  {
   "attachments": {},
   "cell_type": "markdown",
   "metadata": {},
   "source": [
    "# PowerShell integration with Mermaid\n",
    "\n",
    "- Install-Module -Name PsMermaidTools\n",
    "- Install-Module -Name PsSqlMermaid\n",
    "- Install-Module -Name PsDockerMermaid\n",
    "- Install-Module -Name PSMermaid\n",
    "- Install-Module -Name PSDiagramGenerator\n",
    "\n",
    "# Let's Try with AI: ChatGPT"
   ]
  },
  {
   "cell_type": "code",
   "execution_count": null,
   "metadata": {
    "dotnet_interactive": {
     "language": "pwsh"
    },
    "polyglot_notebook": {
     "kernelName": "pwsh"
    }
   },
   "outputs": [],
   "source": [
    "NBCopilot 'Show sample mermaid diagram' -cellType mermaid"
   ]
  },
  {
   "cell_type": "code",
   "execution_count": 13,
   "metadata": {
    "dotnet_interactive": {
     "language": "pwsh"
    },
    "polyglot_notebook": {
     "kernelName": "pwsh"
    }
   },
   "outputs": [],
   "source": [
    "NBCopilot @'\n",
    "Generate a mermaid sequence diagram from these PowerShell functions and what they call. Just the mermaid syntax, no explanation.\n",
    "\n",
    "```powershell\n",
    "function Get-Sales {\n",
    "    Get-Orders | Get-OrderItems | Get-Products | Get-ProductSales\n",
    "}\n",
    "\n",
    "function Get-Orders {\n",
    "    Invoke-RestMethod -Uri \"https://localhost:5001/api/orders\"\n",
    "}\n",
    "```\n",
    "'@ -cellType mermaid"
   ]
  },
  {
   "cell_type": "code",
   "execution_count": null,
   "metadata": {
    "dotnet_interactive": {
     "language": "mermaid"
    },
    "polyglot_notebook": {
     "kernelName": "mermaid"
    }
   },
   "outputs": [],
   "source": [
    "sequenceDiagram\n",
    "    participant GetSales as Get-Sales\n",
    "    participant GetOrders as Get-Orders\n",
    "    participant InvokeRestMethod as Invoke-RestMethod\n",
    "    participant GetOrderItems as Get-OrderItems\n",
    "    participant GetProducts as Get-Products\n",
    "    participant GetProductSales as Get-ProductSales\n",
    "\n",
    "    GetSales->>GetOrders: Call Get-Orders\n",
    "    GetOrders->>InvokeRestMethod: Call Invoke-RestMethod\n",
    "    InvokeRestMethod-->>GetOrders: Return orders\n",
    "    GetOrders-->>GetSales: Return orders\n",
    "    GetSales->>GetOrderItems: Call Get-OrderItems\n",
    "    GetOrderItems-->>GetSales: Return order items\n",
    "    GetSales->>GetProducts: Call Get-Products\n",
    "    GetProducts-->>GetSales: Return products\n",
    "    GetSales->>GetProductSales: Call Get-ProductSales\n",
    "    GetProductSales-->>GetSales: Return product sales"
   ]
  },
  {
   "cell_type": "code",
   "execution_count": 18,
   "metadata": {
    "dotnet_interactive": {
     "language": "pwsh"
    },
    "polyglot_notebook": {
     "kernelName": "pwsh"
    }
   },
   "outputs": [],
   "source": [
    "NBCopilot 'Create a diagram of the National Football League using mermaid syntax, output only the mermaid syntax, no usage or explanation text ' -cellType mermaid"
   ]
  }
 ],
 "metadata": {
  "kernelspec": {
   "display_name": ".NET (C#)",
   "language": "C#",
   "name": ".net-csharp"
  },
  "language_info": {
   "name": "polyglot-notebook"
  },
  "polyglot_notebook": {
   "kernelInfo": {
    "defaultKernelName": "csharp",
    "items": [
     {
      "aliases": [],
      "name": "csharp"
     }
    ]
   }
  }
 },
 "nbformat": 4,
 "nbformat_minor": 2
}

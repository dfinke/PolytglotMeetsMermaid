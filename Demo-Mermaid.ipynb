{
 "cells": [
  {
   "attachments": {},
   "cell_type": "markdown",
   "metadata": {
    "dotnet_interactive": {
     "language": "pwsh"
    },
    "polyglot_notebook": {
     "kernelName": "pwsh"
    }
   },
   "source": [
    "# About Mermaid\n",
    "\n",
    "Mermaid lets you create diagrams and visualizations using text and code.\n",
    "\n",
    "Mermaid is a diagramming and charting tool that renders Markdown-inspired text definitions to create and modify diagrams dynamically.\n",
    "\n",
    "> If you are familiar with Markdown you should have no problem learning [Mermaid's Syntax](https://mermaid.js.org/intro/n00b-syntaxReference.html)."
   ]
  },
  {
   "attachments": {},
   "cell_type": "markdown",
   "metadata": {
    "dotnet_interactive": {
     "language": "pwsh"
    },
    "polyglot_notebook": {
     "kernelName": "pwsh"
    }
   },
   "source": [
    "# Flowcharts - Basic Syntax\n",
    "\n",
    "All Flowcharts are composed of nodes"
   ]
  },
  {
   "cell_type": "code",
   "execution_count": 10,
   "metadata": {
    "dotnet_interactive": {
     "language": "mermaid"
    },
    "polyglot_notebook": {
     "kernelName": "mermaid"
    },
    "vscode": {
     "languageId": "polyglot-notebook"
    }
   },
   "outputs": [
    {
     "data": {
      "text/html": [
       "<div class=\"mermaidMarkdownContainer\" style=\"background-color:white\">\r\n",
       "<link rel=\"stylesheet\" href=\"https://cdnjs.cloudflare.com/ajax/libs/font-awesome/6.2.0/css/all.min.css\">\r\n",
       "<script type=\"text/javascript\">\r\n",
       "\r\n",
       "loadMermaid_f46cd927b3cc48c7a873abdc8e0b393e = () => {\r\n",
       " \r\n",
       "        (require.config({ 'paths': { 'context': '9.1.7', 'mermaidUri' : 'https://cdn.jsdelivr.net/npm/mermaid@9.1.7/dist/mermaid.min', 'urlArgs': 'cacheBuster=f8d8696731204263953dd55ac3be72d1' }}) || require)(['mermaidUri'], (mermaid) => {\r\n",
       "\r\n",
       "            let renderTarget = document.getElementById('f46cd927b3cc48c7a873abdc8e0b393e');\r\n",
       "            mermaid.mermaidAPI.render( \r\n",
       "                'mermaid_f46cd927b3cc48c7a873abdc8e0b393e', \r\n",
       "                `flowchart LR\n",
       "   a --> b & c--> d\n",
       "   b --> e`, \r\n",
       "                g => {\r\n",
       "                    renderTarget.innerHTML = g \r\n",
       "                });\r\n",
       "        },\r\n",
       "        (error) => {\r\n",
       "            console.log(error);\r\n",
       "        });\r\n",
       "}\r\n",
       "// ensure `require` is available globally\r\n",
       "if ((typeof(require) !==  typeof(Function)) || (typeof(require.config) !== typeof(Function))) {\r\n",
       "    let require_script = document.createElement('script');\r\n",
       "    require_script.setAttribute('src', 'https://cdnjs.cloudflare.com/ajax/libs/require.js/2.3.6/require.min.js');\r\n",
       "    require_script.setAttribute('type', 'text/javascript');\r\n",
       "    \r\n",
       "    \r\n",
       "    require_script.onload = function() {\r\n",
       "        loadMermaid_f46cd927b3cc48c7a873abdc8e0b393e();\r\n",
       "    };\r\n",
       "\r\n",
       "    document.getElementsByTagName('head')[0].appendChild(require_script);\r\n",
       "}\r\n",
       "else {\r\n",
       "    loadMermaid_f46cd927b3cc48c7a873abdc8e0b393e();\r\n",
       "}\r\n",
       "\r\n",
       "</script>\r\n",
       "<div id=\"f46cd927b3cc48c7a873abdc8e0b393e\"></div>\r\n",
       "</div>\r\n"
      ]
     },
     "metadata": {},
     "output_type": "display_data"
    }
   ],
   "source": [
    "flowchart LR\n",
    "   a --> b & c--> d\n",
    "   b --> e"
   ]
  },
  {
   "attachments": {},
   "cell_type": "markdown",
   "metadata": {
    "dotnet_interactive": {
     "language": "mermaid"
    },
    "polyglot_notebook": {
     "kernelName": "mermaid"
    }
   },
   "source": [
    "# Subgraphs"
   ]
  },
  {
   "cell_type": "code",
   "execution_count": 11,
   "metadata": {
    "dotnet_interactive": {
     "language": "mermaid"
    },
    "polyglot_notebook": {
     "kernelName": "mermaid"
    },
    "vscode": {
     "languageId": "polyglot-notebook"
    }
   },
   "outputs": [
    {
     "data": {
      "text/html": [
       "<div class=\"mermaidMarkdownContainer\" style=\"background-color:white\">\r\n",
       "<link rel=\"stylesheet\" href=\"https://cdnjs.cloudflare.com/ajax/libs/font-awesome/6.2.0/css/all.min.css\">\r\n",
       "<script type=\"text/javascript\">\r\n",
       "\r\n",
       "loadMermaid_1b11cc0730674424bf007803c0ca13c6 = () => {\r\n",
       " \r\n",
       "        (require.config({ 'paths': { 'context': '9.1.7', 'mermaidUri' : 'https://cdn.jsdelivr.net/npm/mermaid@9.1.7/dist/mermaid.min', 'urlArgs': 'cacheBuster=f8d8696731204263953dd55ac3be72d1' }}) || require)(['mermaidUri'], (mermaid) => {\r\n",
       "\r\n",
       "            let renderTarget = document.getElementById('1b11cc0730674424bf007803c0ca13c6');\r\n",
       "            mermaid.mermaidAPI.render( \r\n",
       "                'mermaid_1b11cc0730674424bf007803c0ca13c6', \r\n",
       "                `flowchart TB\n",
       "    c1-->a2\n",
       "    subgraph one\n",
       "    a1-->a2\n",
       "    end\n",
       "    subgraph two\n",
       "    b1-->b2\n",
       "    end\n",
       "    subgraph three\n",
       "    c1-->c2\n",
       "    end`, \r\n",
       "                g => {\r\n",
       "                    renderTarget.innerHTML = g \r\n",
       "                });\r\n",
       "        },\r\n",
       "        (error) => {\r\n",
       "            console.log(error);\r\n",
       "        });\r\n",
       "}\r\n",
       "// ensure `require` is available globally\r\n",
       "if ((typeof(require) !==  typeof(Function)) || (typeof(require.config) !== typeof(Function))) {\r\n",
       "    let require_script = document.createElement('script');\r\n",
       "    require_script.setAttribute('src', 'https://cdnjs.cloudflare.com/ajax/libs/require.js/2.3.6/require.min.js');\r\n",
       "    require_script.setAttribute('type', 'text/javascript');\r\n",
       "    \r\n",
       "    \r\n",
       "    require_script.onload = function() {\r\n",
       "        loadMermaid_1b11cc0730674424bf007803c0ca13c6();\r\n",
       "    };\r\n",
       "\r\n",
       "    document.getElementsByTagName('head')[0].appendChild(require_script);\r\n",
       "}\r\n",
       "else {\r\n",
       "    loadMermaid_1b11cc0730674424bf007803c0ca13c6();\r\n",
       "}\r\n",
       "\r\n",
       "</script>\r\n",
       "<div id=\"1b11cc0730674424bf007803c0ca13c6\"></div>\r\n",
       "</div>\r\n"
      ]
     },
     "metadata": {},
     "output_type": "display_data"
    }
   ],
   "source": [
    "flowchart TB\n",
    "    c1-->a2\n",
    "    subgraph one\n",
    "    a1-->a2\n",
    "    end\n",
    "    subgraph two\n",
    "    b1-->b2\n",
    "    end\n",
    "    subgraph three\n",
    "    c1-->c2\n",
    "    end"
   ]
  },
  {
   "attachments": {},
   "cell_type": "markdown",
   "metadata": {
    "dotnet_interactive": {
     "language": "mermaid"
    },
    "polyglot_notebook": {
     "kernelName": "mermaid"
    }
   },
   "source": [
    "# Entity Relationship Diagrams\n",
    "\n",
    "> An entity–relationship model (or ER model) describes interrelated things of interest in a specific domain of knowledge. "
   ]
  },
  {
   "cell_type": "code",
   "execution_count": 12,
   "metadata": {
    "dotnet_interactive": {
     "language": "mermaid"
    },
    "polyglot_notebook": {
     "kernelName": "mermaid"
    },
    "vscode": {
     "languageId": "polyglot-notebook"
    }
   },
   "outputs": [
    {
     "data": {
      "text/html": [
       "<div class=\"mermaidMarkdownContainer\" style=\"background-color:white\">\r\n",
       "<link rel=\"stylesheet\" href=\"https://cdnjs.cloudflare.com/ajax/libs/font-awesome/6.2.0/css/all.min.css\">\r\n",
       "<script type=\"text/javascript\">\r\n",
       "\r\n",
       "loadMermaid_c94bb824750745918e9f9140e930f636 = () => {\r\n",
       " \r\n",
       "        (require.config({ 'paths': { 'context': '9.1.7', 'mermaidUri' : 'https://cdn.jsdelivr.net/npm/mermaid@9.1.7/dist/mermaid.min', 'urlArgs': 'cacheBuster=f8d8696731204263953dd55ac3be72d1' }}) || require)(['mermaidUri'], (mermaid) => {\r\n",
       "\r\n",
       "            let renderTarget = document.getElementById('c94bb824750745918e9f9140e930f636');\r\n",
       "            mermaid.mermaidAPI.render( \r\n",
       "                'mermaid_c94bb824750745918e9f9140e930f636', \r\n",
       "                `erDiagram\n",
       "    CUSTOMER ||--o{ ORDER : places\n",
       "    ORDER ||--|{ LINE-ITEM : contains\n",
       "    CUSTOMER }|..|{ DELIVERY-ADDRESS : uses\n",
       "`, \r\n",
       "                g => {\r\n",
       "                    renderTarget.innerHTML = g \r\n",
       "                });\r\n",
       "        },\r\n",
       "        (error) => {\r\n",
       "            console.log(error);\r\n",
       "        });\r\n",
       "}\r\n",
       "// ensure `require` is available globally\r\n",
       "if ((typeof(require) !==  typeof(Function)) || (typeof(require.config) !== typeof(Function))) {\r\n",
       "    let require_script = document.createElement('script');\r\n",
       "    require_script.setAttribute('src', 'https://cdnjs.cloudflare.com/ajax/libs/require.js/2.3.6/require.min.js');\r\n",
       "    require_script.setAttribute('type', 'text/javascript');\r\n",
       "    \r\n",
       "    \r\n",
       "    require_script.onload = function() {\r\n",
       "        loadMermaid_c94bb824750745918e9f9140e930f636();\r\n",
       "    };\r\n",
       "\r\n",
       "    document.getElementsByTagName('head')[0].appendChild(require_script);\r\n",
       "}\r\n",
       "else {\r\n",
       "    loadMermaid_c94bb824750745918e9f9140e930f636();\r\n",
       "}\r\n",
       "\r\n",
       "</script>\r\n",
       "<div id=\"c94bb824750745918e9f9140e930f636\"></div>\r\n",
       "</div>\r\n"
      ]
     },
     "metadata": {},
     "output_type": "display_data"
    }
   ],
   "source": [
    "erDiagram\n",
    "    CUSTOMER ||--o{ ORDER : places\n",
    "    ORDER ||--|{ LINE-ITEM : contains\n",
    "    CUSTOMER }|..|{ DELIVERY-ADDRESS : uses\n"
   ]
  },
  {
   "attachments": {},
   "cell_type": "markdown",
   "metadata": {
    "dotnet_interactive": {
     "language": "mermaid"
    },
    "polyglot_notebook": {
     "kernelName": "mermaid"
    }
   },
   "source": [
    "# Pie Charts"
   ]
  },
  {
   "cell_type": "code",
   "execution_count": 13,
   "metadata": {
    "dotnet_interactive": {
     "language": "mermaid"
    },
    "polyglot_notebook": {
     "kernelName": "mermaid"
    },
    "vscode": {
     "languageId": "polyglot-notebook"
    }
   },
   "outputs": [
    {
     "data": {
      "text/html": [
       "<div class=\"mermaidMarkdownContainer\" style=\"background-color:white\">\r\n",
       "<link rel=\"stylesheet\" href=\"https://cdnjs.cloudflare.com/ajax/libs/font-awesome/6.2.0/css/all.min.css\">\r\n",
       "<script type=\"text/javascript\">\r\n",
       "\r\n",
       "loadMermaid_82bb4e8371a14a118d26342cab0d11d2 = () => {\r\n",
       " \r\n",
       "        (require.config({ 'paths': { 'context': '9.1.7', 'mermaidUri' : 'https://cdn.jsdelivr.net/npm/mermaid@9.1.7/dist/mermaid.min', 'urlArgs': 'cacheBuster=f8d8696731204263953dd55ac3be72d1' }}) || require)(['mermaidUri'], (mermaid) => {\r\n",
       "\r\n",
       "            let renderTarget = document.getElementById('82bb4e8371a14a118d26342cab0d11d2');\r\n",
       "            mermaid.mermaidAPI.render( \r\n",
       "                'mermaid_82bb4e8371a14a118d26342cab0d11d2', \r\n",
       "                `pie title Pets adopted by volunteers\n",
       "    \"Dogs\" : 386\n",
       "    \"Cats\" : 85\n",
       "    \"Rats\" : 15`, \r\n",
       "                g => {\r\n",
       "                    renderTarget.innerHTML = g \r\n",
       "                });\r\n",
       "        },\r\n",
       "        (error) => {\r\n",
       "            console.log(error);\r\n",
       "        });\r\n",
       "}\r\n",
       "// ensure `require` is available globally\r\n",
       "if ((typeof(require) !==  typeof(Function)) || (typeof(require.config) !== typeof(Function))) {\r\n",
       "    let require_script = document.createElement('script');\r\n",
       "    require_script.setAttribute('src', 'https://cdnjs.cloudflare.com/ajax/libs/require.js/2.3.6/require.min.js');\r\n",
       "    require_script.setAttribute('type', 'text/javascript');\r\n",
       "    \r\n",
       "    \r\n",
       "    require_script.onload = function() {\r\n",
       "        loadMermaid_82bb4e8371a14a118d26342cab0d11d2();\r\n",
       "    };\r\n",
       "\r\n",
       "    document.getElementsByTagName('head')[0].appendChild(require_script);\r\n",
       "}\r\n",
       "else {\r\n",
       "    loadMermaid_82bb4e8371a14a118d26342cab0d11d2();\r\n",
       "}\r\n",
       "\r\n",
       "</script>\r\n",
       "<div id=\"82bb4e8371a14a118d26342cab0d11d2\"></div>\r\n",
       "</div>\r\n"
      ]
     },
     "metadata": {},
     "output_type": "display_data"
    }
   ],
   "source": [
    "pie title Pets adopted by volunteers\n",
    "    \"Dogs\" : 386\n",
    "    \"Cats\" : 85\n",
    "    \"Rats\" : 15"
   ]
  },
  {
   "attachments": {},
   "cell_type": "markdown",
   "metadata": {
    "dotnet_interactive": {
     "language": "mermaid"
    },
    "polyglot_notebook": {
     "kernelName": "mermaid"
    }
   },
   "source": [
    "# C4 Diagrams\n",
    "\n",
    "\n",
    "Mermaid's c4 diagram syntax is compatible with plantUML"
   ]
  },
  {
   "cell_type": "code",
   "execution_count": 14,
   "metadata": {
    "dotnet_interactive": {
     "language": "mermaid"
    },
    "polyglot_notebook": {
     "kernelName": "mermaid"
    },
    "vscode": {
     "languageId": "polyglot-notebook"
    }
   },
   "outputs": [
    {
     "data": {
      "text/html": [
       "<div class=\"mermaidMarkdownContainer\" style=\"background-color:white\">\r\n",
       "<link rel=\"stylesheet\" href=\"https://cdnjs.cloudflare.com/ajax/libs/font-awesome/6.2.0/css/all.min.css\">\r\n",
       "<script type=\"text/javascript\">\r\n",
       "\r\n",
       "loadMermaid_bb8e6c89055c483c9152f3cf2cef1823 = () => {\r\n",
       " \r\n",
       "        (require.config({ 'paths': { 'context': '9.1.7', 'mermaidUri' : 'https://cdn.jsdelivr.net/npm/mermaid@9.1.7/dist/mermaid.min', 'urlArgs': 'cacheBuster=f8d8696731204263953dd55ac3be72d1' }}) || require)(['mermaidUri'], (mermaid) => {\r\n",
       "\r\n",
       "            let renderTarget = document.getElementById('bb8e6c89055c483c9152f3cf2cef1823');\r\n",
       "            mermaid.mermaidAPI.render( \r\n",
       "                'mermaid_bb8e6c89055c483c9152f3cf2cef1823', \r\n",
       "                `    C4Context\n",
       "      title System Context diagram for Internet Banking System\n",
       "      Enterprise_Boundary(b0, \"BankBoundary0\") {\n",
       "        Person(customerA, \"Banking Customer A\", \"A customer of the bank, with personal bank accounts.\")\n",
       "        Person(customerB, \"Banking Customer B\")\n",
       "        Person_Ext(customerC, \"Banking Customer C\", \"desc\")\n",
       "\n",
       "        Person(customerD, \"Banking Customer D\", \"A customer of the bank, <br/> with personal bank accounts.\")\n",
       "\n",
       "        System(SystemAA, \"Internet Banking System\", \"Allows customers to view information about their bank accounts, and make payments.\")\n",
       "\n",
       "        Enterprise_Boundary(b1, \"BankBoundary\") {\n",
       "\n",
       "          SystemDb_Ext(SystemE, \"Mainframe Banking System\", \"Stores all of the core banking information about customers, accounts, transactions, etc.\")\n",
       "\n",
       "          System_Boundary(b2, \"BankBoundary2\") {\n",
       "            System(SystemA, \"Banking System A\")\n",
       "            System(SystemB, \"Banking System B\", \"A system of the bank, with personal bank accounts. next line.\")\n",
       "          }\n",
       "\n",
       "          System_Ext(SystemC, \"E-mail system\", \"The internal Microsoft Exchange e-mail system.\")\n",
       "          SystemDb(SystemD, \"Banking System D Database\", \"A system of the bank, with personal bank accounts.\")\n",
       "\n",
       "          Boundary(b3, \"BankBoundary3\", \"boundary\") {\n",
       "            SystemQueue(SystemF, \"Banking System F Queue\", \"A system of the bank.\")\n",
       "            SystemQueue_Ext(SystemG, \"Banking System G Queue\", \"A system of the bank, with personal bank accounts.\")\n",
       "          }\n",
       "        }\n",
       "      }\n",
       "\n",
       "      BiRel(customerA, SystemAA, \"Uses\")\n",
       "      BiRel(SystemAA, SystemE, \"Uses\")\n",
       "      Rel(SystemAA, SystemC, \"Sends e-mails\", \"SMTP\")\n",
       "      Rel(SystemC, customerA, \"Sends e-mails to\")\n",
       "\n",
       "      UpdateElementStyle(customerA, $fontColor=\"red\", $bgColor=\"grey\", $borderColor=\"red\")\n",
       "      UpdateRelStyle(customerA, SystemAA, $textColor=\"blue\", $lineColor=\"blue\", $offsetX=\"5\")\n",
       "      UpdateRelStyle(SystemAA, SystemE, $textColor=\"blue\", $lineColor=\"blue\", $offsetY=\"-10\")\n",
       "      UpdateRelStyle(SystemAA, SystemC, $textColor=\"blue\", $lineColor=\"blue\", $offsetY=\"-40\", $offsetX=\"-50\")\n",
       "      UpdateRelStyle(SystemC, customerA, $textColor=\"red\", $lineColor=\"red\", $offsetX=\"-50\", $offsetY=\"20\")\n",
       "\n",
       "      UpdateLayoutConfig($c4ShapeInRow=\"3\", $c4BoundaryInRow=\"1\")\n",
       "\n",
       "\n",
       "`, \r\n",
       "                g => {\r\n",
       "                    renderTarget.innerHTML = g \r\n",
       "                });\r\n",
       "        },\r\n",
       "        (error) => {\r\n",
       "            console.log(error);\r\n",
       "        });\r\n",
       "}\r\n",
       "// ensure `require` is available globally\r\n",
       "if ((typeof(require) !==  typeof(Function)) || (typeof(require.config) !== typeof(Function))) {\r\n",
       "    let require_script = document.createElement('script');\r\n",
       "    require_script.setAttribute('src', 'https://cdnjs.cloudflare.com/ajax/libs/require.js/2.3.6/require.min.js');\r\n",
       "    require_script.setAttribute('type', 'text/javascript');\r\n",
       "    \r\n",
       "    \r\n",
       "    require_script.onload = function() {\r\n",
       "        loadMermaid_bb8e6c89055c483c9152f3cf2cef1823();\r\n",
       "    };\r\n",
       "\r\n",
       "    document.getElementsByTagName('head')[0].appendChild(require_script);\r\n",
       "}\r\n",
       "else {\r\n",
       "    loadMermaid_bb8e6c89055c483c9152f3cf2cef1823();\r\n",
       "}\r\n",
       "\r\n",
       "</script>\r\n",
       "<div id=\"bb8e6c89055c483c9152f3cf2cef1823\"></div>\r\n",
       "</div>\r\n"
      ]
     },
     "metadata": {},
     "output_type": "display_data"
    }
   ],
   "source": [
    "    C4Context\n",
    "      title System Context diagram for Internet Banking System\n",
    "      Enterprise_Boundary(b0, \"BankBoundary0\") {\n",
    "        Person(customerA, \"Banking Customer A\", \"A customer of the bank, with personal bank accounts.\")\n",
    "        Person(customerB, \"Banking Customer B\")\n",
    "        Person_Ext(customerC, \"Banking Customer C\", \"desc\")\n",
    "\n",
    "        Person(customerD, \"Banking Customer D\", \"A customer of the bank, <br/> with personal bank accounts.\")\n",
    "\n",
    "        System(SystemAA, \"Internet Banking System\", \"Allows customers to view information about their bank accounts, and make payments.\")\n",
    "\n",
    "        Enterprise_Boundary(b1, \"BankBoundary\") {\n",
    "\n",
    "          SystemDb_Ext(SystemE, \"Mainframe Banking System\", \"Stores all of the core banking information about customers, accounts, transactions, etc.\")\n",
    "\n",
    "          System_Boundary(b2, \"BankBoundary2\") {\n",
    "            System(SystemA, \"Banking System A\")\n",
    "            System(SystemB, \"Banking System B\", \"A system of the bank, with personal bank accounts. next line.\")\n",
    "          }\n",
    "\n",
    "          System_Ext(SystemC, \"E-mail system\", \"The internal Microsoft Exchange e-mail system.\")\n",
    "          SystemDb(SystemD, \"Banking System D Database\", \"A system of the bank, with personal bank accounts.\")\n",
    "\n",
    "          Boundary(b3, \"BankBoundary3\", \"boundary\") {\n",
    "            SystemQueue(SystemF, \"Banking System F Queue\", \"A system of the bank.\")\n",
    "            SystemQueue_Ext(SystemG, \"Banking System G Queue\", \"A system of the bank, with personal bank accounts.\")\n",
    "          }\n",
    "        }\n",
    "      }\n",
    "\n",
    "      BiRel(customerA, SystemAA, \"Uses\")\n",
    "      BiRel(SystemAA, SystemE, \"Uses\")\n",
    "      Rel(SystemAA, SystemC, \"Sends e-mails\", \"SMTP\")\n",
    "      Rel(SystemC, customerA, \"Sends e-mails to\")\n",
    "\n",
    "      UpdateElementStyle(customerA, $fontColor=\"red\", $bgColor=\"grey\", $borderColor=\"red\")\n",
    "      UpdateRelStyle(customerA, SystemAA, $textColor=\"blue\", $lineColor=\"blue\", $offsetX=\"5\")\n",
    "      UpdateRelStyle(SystemAA, SystemE, $textColor=\"blue\", $lineColor=\"blue\", $offsetY=\"-10\")\n",
    "      UpdateRelStyle(SystemAA, SystemC, $textColor=\"blue\", $lineColor=\"blue\", $offsetY=\"-40\", $offsetX=\"-50\")\n",
    "      UpdateRelStyle(SystemC, customerA, $textColor=\"red\", $lineColor=\"red\", $offsetX=\"-50\", $offsetY=\"20\")\n",
    "\n",
    "      UpdateLayoutConfig($c4ShapeInRow=\"3\", $c4BoundaryInRow=\"1\")\n",
    "\n",
    "\n"
   ]
  },
  {
   "attachments": {},
   "cell_type": "markdown",
   "metadata": {
    "dotnet_interactive": {
     "language": "mermaid"
    },
    "polyglot_notebook": {
     "kernelName": "mermaid"
    }
   },
   "source": [
    "# PowerShell integration with Mermaid\n",
    "\n",
    "- Install-Module -Name PsMermaidTools\n",
    "- Install-Module -Name PsSqlMermaid\n",
    "- Install-Module -Name PsDockerMermaid\n",
    "- Install-Module -Name PSMermaid\n",
    "- Install-Module -Name PSDiagramGenerator\n",
    "\n",
    "# Let's Try with AI: ChatGPT"
   ]
  },
  {
   "cell_type": "code",
   "execution_count": 15,
   "metadata": {
    "dotnet_interactive": {
     "language": "pwsh"
    },
    "polyglot_notebook": {
     "kernelName": "pwsh"
    },
    "vscode": {
     "languageId": "polyglot-notebook"
    }
   },
   "outputs": [
    {
     "name": "stdout",
     "output_type": "stream",
     "text": [
      "\n",
      "\n",
      "```mermaid\n",
      "graph TD\n",
      "A[Christmas] --> B(Go Shopping)\n",
      "B --> C{Let me think}\n",
      "C -->|One| D[Laptop]\n",
      "C -->|Two| E[iPhone]\n",
      "C -->|Three| F[Car]\n",
      "```\r\n"
     ]
    }
   ],
   "source": [
    "gpt 'Show sample mermaid diagram'"
   ]
  },
  {
   "cell_type": "code",
   "execution_count": 16,
   "metadata": {
    "dotnet_interactive": {
     "language": "pwsh"
    },
    "polyglot_notebook": {
     "kernelName": "pwsh"
    },
    "vscode": {
     "languageId": "polyglot-notebook"
    }
   },
   "outputs": [
    {
     "name": "stdout",
     "output_type": "stream",
     "text": [
      "\r\n",
      "\r\n",
      "sequenceDiagram\r\n",
      "    Get-Sales ->> Get-Orders: Invoke-RestMethod -Uri \"https://localhost:5001/api/orders\"\r\n",
      "    Get-Orders ->> Get-OrderItems: Get-OrderItems\r\n",
      "    Get-OrderItems ->> Get-Products: Get-Products\r\n",
      "    Get-Products ->> Get-ProductSales: Get-ProductSales\r\n"
     ]
    }
   ],
   "source": [
    "gpt @'\n",
    "Generate a mermaid sequence diagram from these PowerShell functions and what they call.\n",
    "\n",
    "```powershell\n",
    "function Get-Sales {\n",
    "    Get-Orders | Get-OrderItems | Get-Products | Get-ProductSales\n",
    "}\n",
    "\n",
    "function Get-Orders {\n",
    "    Invoke-RestMethod -Uri \"https://localhost:5001/api/orders\"\n",
    "}\n",
    "```\n",
    "'@"
   ]
  },
  {
   "cell_type": "code",
   "execution_count": 17,
   "metadata": {
    "dotnet_interactive": {
     "language": "mermaid"
    },
    "polyglot_notebook": {
     "kernelName": "mermaid"
    },
    "vscode": {
     "languageId": "polyglot-notebook"
    }
   },
   "outputs": [
    {
     "data": {
      "text/html": [
       "<div class=\"mermaidMarkdownContainer\" style=\"background-color:white\">\r\n",
       "<link rel=\"stylesheet\" href=\"https://cdnjs.cloudflare.com/ajax/libs/font-awesome/6.2.0/css/all.min.css\">\r\n",
       "<script type=\"text/javascript\">\r\n",
       "\r\n",
       "loadMermaid_0b2a064176f143018bbede30eba1f7e4 = () => {\r\n",
       " \r\n",
       "        (require.config({ 'paths': { 'context': '9.1.7', 'mermaidUri' : 'https://cdn.jsdelivr.net/npm/mermaid@9.1.7/dist/mermaid.min', 'urlArgs': 'cacheBuster=f8d8696731204263953dd55ac3be72d1' }}) || require)(['mermaidUri'], (mermaid) => {\r\n",
       "\r\n",
       "            let renderTarget = document.getElementById('0b2a064176f143018bbede30eba1f7e4');\r\n",
       "            mermaid.mermaidAPI.render( \r\n",
       "                'mermaid_0b2a064176f143018bbede30eba1f7e4', \r\n",
       "                `sequenceDiagram\r\n",
       "    Get-Sales ->> Get-Orders: Invoke-RestMethod -Uri \"https://localhost:5001/api/orders\"\r\n",
       "    Get-Orders ->> Get-OrderItems: Get-OrderItems\r\n",
       "    Get-OrderItems ->> Get-Products: Get-Products\r\n",
       "    Get-Products ->> Get-ProductSales: Get-ProductSales`, \r\n",
       "                g => {\r\n",
       "                    renderTarget.innerHTML = g \r\n",
       "                });\r\n",
       "        },\r\n",
       "        (error) => {\r\n",
       "            console.log(error);\r\n",
       "        });\r\n",
       "}\r\n",
       "// ensure `require` is available globally\r\n",
       "if ((typeof(require) !==  typeof(Function)) || (typeof(require.config) !== typeof(Function))) {\r\n",
       "    let require_script = document.createElement('script');\r\n",
       "    require_script.setAttribute('src', 'https://cdnjs.cloudflare.com/ajax/libs/require.js/2.3.6/require.min.js');\r\n",
       "    require_script.setAttribute('type', 'text/javascript');\r\n",
       "    \r\n",
       "    \r\n",
       "    require_script.onload = function() {\r\n",
       "        loadMermaid_0b2a064176f143018bbede30eba1f7e4();\r\n",
       "    };\r\n",
       "\r\n",
       "    document.getElementsByTagName('head')[0].appendChild(require_script);\r\n",
       "}\r\n",
       "else {\r\n",
       "    loadMermaid_0b2a064176f143018bbede30eba1f7e4();\r\n",
       "}\r\n",
       "\r\n",
       "</script>\r\n",
       "<div id=\"0b2a064176f143018bbede30eba1f7e4\"></div>\r\n",
       "</div>\r\n"
      ]
     },
     "metadata": {},
     "output_type": "display_data"
    }
   ],
   "source": [
    "sequenceDiagram\n",
    "    Get-Sales ->> Get-Orders: Invoke-RestMethod -Uri \"https://localhost:5001/api/orders\"\n",
    "    Get-Orders ->> Get-OrderItems: Get-OrderItems\n",
    "    Get-OrderItems ->> Get-Products: Get-Products\n",
    "    Get-Products ->> Get-ProductSales: Get-ProductSales"
   ]
  }
 ],
 "metadata": {
  "kernelspec": {
   "display_name": ".NET (PowerShell)",
   "language": "PowerShell",
   "name": ".net-pwsh"
  },
  "polyglot_notebook": {
   "kernelInfo": {
    "defaultKernelName": "pwsh",
    "items": [
     {
      "aliases": [
       "powershell"
      ],
      "languageName": "PowerShell",
      "name": "pwsh"
     },
     {
      "aliases": [
       "frontend"
      ],
      "languageName": null,
      "name": "vscode"
     },
     {
      "aliases": [],
      "name": ".NET"
     },
     {
      "aliases": [
       "c#",
       "C#"
      ],
      "languageName": "C#",
      "name": "csharp"
     },
     {
      "aliases": [
       "f#",
       "F#"
      ],
      "languageName": "F#",
      "name": "fsharp"
     },
     {
      "aliases": [],
      "languageName": "HTML",
      "name": "html"
     },
     {
      "aliases": [
       "js"
      ],
      "languageName": "JavaScript",
      "name": "javascript"
     },
     {
      "aliases": [],
      "languageName": "KQL",
      "name": "kql"
     },
     {
      "aliases": [],
      "languageName": "Mermaid",
      "name": "mermaid"
     },
     {
      "aliases": [],
      "languageName": "SQL",
      "name": "sql"
     },
     {
      "aliases": [],
      "name": "value"
     },
     {
      "aliases": [],
      "name": "webview"
     }
    ]
   }
  }
 },
 "nbformat": 4,
 "nbformat_minor": 2
}
